{
 "cells": [
  {
   "cell_type": "markdown",
   "id": "5136b866-023e-4254-9ba0-33c18104a701",
   "metadata": {},
   "source": [
    "## Analyzing Land Surface Temperature in Baringo Using Google's Earth Engine\n",
    "\n",
    "This portfolio piece showcases the utilization of Google's Earth Engine platform for in-depth analysis of [land surface temperature](https://earthobservatory.nasa.gov/global-maps/MOD_NDVI_M/MOD_LSTD_M). Earth Engine, a cloud-based platform, specializes in processing satellite imagery data, boasting a comprehensive [data catalog](https://developers.google.com/earth-engine/datasets/catalog) spanning vegetation indices to land cover classification.\n",
    "\n",
    "The example employs the [Modis](https://developers.google.com/earth-engine/datasets/catalog/MODIS_061_MOD11A1) dataset to investigate changes in surface temperature over time. Leveraging satellite imagery offers the advantage of global accessibility and long-term data continuity, often extending back decades.\n",
    "\n",
    "To dive in, you'll need to:\n",
    "1. [Install the ee Python library](https://developers.google.com/earth-engine/guides/python_install#pip)\n",
    "2. Establish and authenticate an account with Google Earth Engine, following the instructions [outlined here](https://developers.google.com/earth-engine/guides/auth)."
   ]
  },
  {
   "cell_type": "code",
   "execution_count": 1,
   "id": "862235ba-98c5-4e8f-bc7e-f91ae0c59355",
   "metadata": {
    "tags": []
   },
   "outputs": [
    {
     "ename": "ModuleNotFoundError",
     "evalue": "No module named 'ee'",
     "output_type": "error",
     "traceback": [
      "\u001b[1;31m---------------------------------------------------------------------------\u001b[0m",
      "\u001b[1;31mModuleNotFoundError\u001b[0m                       Traceback (most recent call last)",
      "\u001b[1;32mc:\\Users\\user\\Desktop\\LST\\earth-engine-LST.ipynb Cell 2\u001b[0m line \u001b[0;36m3\n\u001b[0;32m      <a href='vscode-notebook-cell:/c%3A/Users/user/Desktop/LST/earth-engine-LST.ipynb#W1sZmlsZQ%3D%3D?line=0'>1</a>\u001b[0m \u001b[39mimport\u001b[39;00m \u001b[39mpandas\u001b[39;00m \u001b[39mas\u001b[39;00m \u001b[39mpd\u001b[39;00m\n\u001b[0;32m      <a href='vscode-notebook-cell:/c%3A/Users/user/Desktop/LST/earth-engine-LST.ipynb#W1sZmlsZQ%3D%3D?line=1'>2</a>\u001b[0m \u001b[39mimport\u001b[39;00m \u001b[39mgeopandas\u001b[39;00m \u001b[39mas\u001b[39;00m \u001b[39mgpd\u001b[39;00m\n\u001b[1;32m----> <a href='vscode-notebook-cell:/c%3A/Users/user/Desktop/LST/earth-engine-LST.ipynb#W1sZmlsZQ%3D%3D?line=2'>3</a>\u001b[0m \u001b[39mimport\u001b[39;00m \u001b[39mee\u001b[39;00m\n",
      "\u001b[1;31mModuleNotFoundError\u001b[0m: No module named 'ee'"
     ]
    }
   ],
   "source": [
    "import pandas as pd\n",
    "import geopandas as gpd\n",
    "import ee"
   ]
  },
  {
   "cell_type": "code",
   "execution_count": 2,
   "id": "6a225051-4db3-4c35-ab1c-bc201e056e6d",
   "metadata": {
    "tags": []
   },
   "outputs": [],
   "source": [
    "import IPython.display as disp"
   ]
  },
  {
   "cell_type": "code",
   "execution_count": 3,
   "id": "1c047633-8316-463f-9c06-fdf06a1da0e8",
   "metadata": {
    "tags": []
   },
   "outputs": [],
   "source": [
    "import matplotlib.pyplot as plt\n",
    "import numpy as np\n",
    "from scipy.stats import norm, gamma, f, chi2"
   ]
  },
  {
   "cell_type": "code",
   "execution_count": 4,
   "id": "60d546e7-0b2c-4db1-a3cf-67f838298410",
   "metadata": {
    "tags": []
   },
   "outputs": [],
   "source": [
    "import folium\n",
    "from folium import plugins\n",
    "import seaborn as sns"
   ]
  },
  {
   "cell_type": "code",
   "execution_count": 5,
   "id": "178534d1-2c1f-4e6c-8060-163e871abc35",
   "metadata": {
    "tags": []
   },
   "outputs": [],
   "source": [
    "from shapely.geometry import Point, Polygon, shape"
   ]
  },
  {
   "cell_type": "code",
   "execution_count": 8,
   "id": "243d4cae-d46a-4445-a454-272066a1063d",
   "metadata": {},
   "outputs": [],
   "source": [
    "# Uncomment out this line and run the cells\n",
    "\n",
    "# ee.Authenticate()"
   ]
  },
  {
   "cell_type": "markdown",
   "id": "afb37084-d6cc-4089-ba69-2841be0d13fd",
   "metadata": {},
   "source": [
    "<br>\n",
    "\n",
    "### Once auth token generated\n",
    "\n",
    "Register the project at: https://code.earthengine.google.com/?project=cdb2151"
   ]
  },
  {
   "cell_type": "code",
   "execution_count": 7,
   "id": "4cfa913d-1f43-466c-95bc-160800552d67",
   "metadata": {
    "tags": []
   },
   "outputs": [],
   "source": [
    "ee.Initialize()"
   ]
  },
  {
   "cell_type": "code",
   "execution_count": 9,
   "id": "053e8789-0a27-490d-af74-0f685b566112",
   "metadata": {
    "tags": []
   },
   "outputs": [],
   "source": [
    "# Import the MODIS land surface temperature collection.\n",
    "lst = ee.ImageCollection('MODIS/006/MOD11A1')"
   ]
  },
  {
   "cell_type": "code",
   "execution_count": 10,
   "id": "04e37bb7-7902-49bc-8b50-9211f222b0e6",
   "metadata": {
    "tags": []
   },
   "outputs": [],
   "source": [
    "# Specify the date range between today and 10 years prior\n",
    "today = ee.Date(pd.to_datetime('today'))\n",
    "date_range = ee.DateRange(today.advance(-10, 'years'), today)"
   ]
  },
  {
   "cell_type": "markdown",
   "id": "c8acfeef-858f-4f06-8cbc-b3abbab8e995",
   "metadata": {},
   "source": [
    "<br>\n",
    "\n",
    "Satellite imagery is often organized [into bands](https://developers.google.com/earth-engine/datasets/catalog/MODIS_061_MOD11A1#bands) - you can think of bands as layers of different information in the image. One of the first steps in analyzing Earth Engine data is to select the band you wish to study. For our purpose we are interested in viewing the `LST_Day_1km` band which contains: \"Daytime Land Surface Temperature\" at 1km resolution (meaning each pixel in the image is 1 square kilometer)"
   ]
  },
  {
   "cell_type": "code",
   "execution_count": 11,
   "id": "06ec8e64-3034-4392-bd02-d3ebedeebcf3",
   "metadata": {
    "tags": []
   },
   "outputs": [],
   "source": [
    "# Selection of appropriate bands and dates for LST.\n",
    "lst = lst.select('LST_Day_1km').filterDate(date_range)"
   ]
  },
  {
   "cell_type": "markdown",
   "id": "3ede5261-b483-48be-bd20-d0810510ba8f",
   "metadata": {},
   "source": [
    "<br>\n",
    "\n",
    "Next we leverage the [geojson.io](https://geojson.io/) tool to create a rectangle around the area on the Earth's surface we are interested in exploring. Here we selected a region in the Syrian desert."
   ]
  },
  {
   "cell_type": "code",
   "execution_count": 12,
   "id": "a0fe9c20-049a-4f21-b3c0-9554141e9b15",
   "metadata": {
    "tags": []
   },
   "outputs": [],
   "source": [
    "# select an area of interest around Syria\n",
    "geo = {\n",
    "  \"type\": \"FeatureCollection\",\n",
    "  \"features\": [\n",
    "    {\n",
    "      \"type\": \"Feature\",\n",
    "      \"properties\": {},\n",
    "      \"geometry\": {\n",
    "        \"coordinates\": [\n",
    "          [\n",
    "            [\n",
    "              39.60204400475956,\n",
    "              35.432226482842324\n",
    "            ],\n",
    "            [\n",
    "              37.9656916258904,\n",
    "              35.432226482842324\n",
    "            ],\n",
    "            [\n",
    "              37.9656916258904,\n",
    "              34.46386205632274\n",
    "            ],\n",
    "            [\n",
    "              39.60204400475956,\n",
    "              34.46386205632274\n",
    "            ],\n",
    "            [\n",
    "              39.60204400475956,\n",
    "              35.432226482842324\n",
    "            ]\n",
    "          ]\n",
    "        ],\n",
    "        \"type\": \"Polygon\"\n",
    "      }\n",
    "    }\n",
    "  ]\n",
    "}"
   ]
  },
  {
   "cell_type": "code",
   "execution_count": 13,
   "id": "f4f128d3-37a5-4138-b72f-e06f3a01e629",
   "metadata": {
    "tags": []
   },
   "outputs": [],
   "source": [
    "# Convert the geojson object to an Earth Engine Polygon\n",
    "coords = geo['features'][0]['geometry']['coordinates']\n",
    "aoi = ee.Geometry.Polygon(coords)"
   ]
  },
  {
   "cell_type": "markdown",
   "id": "2bc758b4-2e4d-4c21-9bfc-5367d7562baf",
   "metadata": {},
   "source": [
    "<br>\n",
    "\n",
    "Next we specify the scale of the pixels - this largely depends on how big of a surface area and time range you are viewing. There are limits on how much data you can access in Earth Engine on a free account. So seeing as though we are looking 10 years worth of data for a large region, we increase the native scale of the pixels from 1km to 10km per pixel."
   ]
  },
  {
   "cell_type": "code",
   "execution_count": 14,
   "id": "00ed6722-8f44-474e-b15d-dcf5b58f5c44",
   "metadata": {
    "tags": []
   },
   "outputs": [],
   "source": [
    "scale = 10000  # scale in meters"
   ]
  },
  {
   "cell_type": "markdown",
   "id": "59217ac8-d303-4a4d-bf37-d7e1b070e31c",
   "metadata": {},
   "source": [
    "<br>\n",
    "\n",
    "By default the temperature values in the MODIS data are given in Kelvins and include a scale factor of 0.02 (indicated in the descriptions).\n",
    "\n",
    "Here we calculate the mean temperature of the first observation in the dataset and convert the result to celsius."
   ]
  },
  {
   "cell_type": "code",
   "execution_count": 15,
   "id": "1974ce89-5778-4c77-ad3f-992476c3c45b",
   "metadata": {
    "tags": []
   },
   "outputs": [
    {
     "name": "stdout",
     "output_type": "stream",
     "text": [
      "Average daytime LST at urban point: 34.33 °C\n"
     ]
    }
   ],
   "source": [
    "# Calculate and print the mean value of the LST collection of the region.\n",
    "lst_of_region = lst.mean().sample(aoi, scale).first().get('LST_Day_1km').getInfo()\n",
    "print('Average daytime LST at urban point:', round(lst_of_region*0.02 -273.15, 2), '°C')"
   ]
  },
  {
   "cell_type": "markdown",
   "id": "c218fc91-c223-4646-a665-360dac6cd566",
   "metadata": {},
   "source": [
    "<br>\n",
    "<br>\n",
    "\n",
    "Next we filter the data to the area (`aoi`) we are interested in at the pixel scale we specified earlier"
   ]
  },
  {
   "cell_type": "code",
   "execution_count": 16,
   "id": "8704f868-d680-4e78-a29a-5b4af03057d5",
   "metadata": {
    "tags": []
   },
   "outputs": [],
   "source": [
    "# Get the data for the pixel intersecting the point in urban area.\n",
    "lst_u_region = lst.getRegion(aoi, scale).getInfo()"
   ]
  },
  {
   "cell_type": "markdown",
   "id": "faf9cb6b-c3cb-4dfe-9874-e6b4f15264cf",
   "metadata": {},
   "source": [
    "We can then preview the first five elements of the result"
   ]
  },
  {
   "cell_type": "code",
   "execution_count": 17,
   "id": "270b149a-4e2c-4809-a14e-4da5f2be3940",
   "metadata": {
    "tags": []
   },
   "outputs": [
    {
     "data": {
      "text/plain": [
       "[['id', 'longitude', 'latitude', 'time', 'LST_Day_1km'],\n",
       " ['2013_07_29', 38.043652282461736, 34.5402226743956, 1375056000000, 15801],\n",
       " ['2013_07_30', 38.043652282461736, 34.5402226743956, 1375142400000, 15908],\n",
       " ['2013_07_31', 38.043652282461736, 34.5402226743956, 1375228800000, 15949],\n",
       " ['2013_08_01', 38.043652282461736, 34.5402226743956, 1375315200000, 15941]]"
      ]
     },
     "execution_count": 17,
     "metadata": {},
     "output_type": "execute_result"
    }
   ],
   "source": [
    "lst_u_region[:5]"
   ]
  },
  {
   "cell_type": "code",
   "execution_count": 18,
   "id": "1aded177-4157-43f0-9150-7acf678f07ee",
   "metadata": {
    "tags": []
   },
   "outputs": [],
   "source": [
    "# This helper function allows us to turn a list of EE data into a Pandas DataFrame\n",
    "def ee_array_to_df(arr, list_of_bands):\n",
    "    \"\"\"Transforms client-side ee.Image.getRegion array to pandas.DataFrame.\"\"\"\n",
    "    df = pd.DataFrame(arr)\n",
    "\n",
    "    # Rearrange the header.\n",
    "    headers = df.iloc[0]\n",
    "    df = pd.DataFrame(df.values[1:], columns=headers)\n",
    "\n",
    "    # Remove rows without data inside.\n",
    "    df = df[['longitude', 'latitude', 'time', *list_of_bands]].dropna()\n",
    "\n",
    "    # Convert the data to numeric values.\n",
    "    for band in list_of_bands:\n",
    "        df[band] = pd.to_numeric(df[band], errors='coerce')\n",
    "\n",
    "    # Convert the time field into a datetime.\n",
    "    df['datetime'] = pd.to_datetime(df['time'], unit='ms')\n",
    "\n",
    "    # Keep the columns of interest.\n",
    "    df = df[['time','datetime',  *list_of_bands]]\n",
    "\n",
    "    return df"
   ]
  },
  {
   "cell_type": "code",
   "execution_count": 19,
   "id": "a3a3de68-2c35-468f-8249-eaff0a0f0c8e",
   "metadata": {
    "tags": []
   },
   "outputs": [],
   "source": [
    "lst_df = ee_array_to_df(lst_u_region,['LST_Day_1km'])"
   ]
  },
  {
   "cell_type": "code",
   "execution_count": null,
   "id": "1d86a4c6-defc-4973-9fef-9cfeabe75397",
   "metadata": {},
   "outputs": [
    {
     "data": {
      "text/html": [
       "<div>\n",
       "<style scoped>\n",
       "    .dataframe tbody tr th:only-of-type {\n",
       "        vertical-align: middle;\n",
       "    }\n",
       "\n",
       "    .dataframe tbody tr th {\n",
       "        vertical-align: top;\n",
       "    }\n",
       "\n",
       "    .dataframe thead th {\n",
       "        text-align: right;\n",
       "    }\n",
       "</style>\n",
       "<table border=\"1\" class=\"dataframe\">\n",
       "  <thead>\n",
       "    <tr style=\"text-align: right;\">\n",
       "      <th></th>\n",
       "      <th>time</th>\n",
       "      <th>datetime</th>\n",
       "      <th>LST_Day_1km</th>\n",
       "    </tr>\n",
       "  </thead>\n",
       "  <tbody>\n",
       "    <tr>\n",
       "      <th>0</th>\n",
       "      <td>1375056000000</td>\n",
       "      <td>2013-07-29</td>\n",
       "      <td>15801</td>\n",
       "    </tr>\n",
       "    <tr>\n",
       "      <th>1</th>\n",
       "      <td>1375142400000</td>\n",
       "      <td>2013-07-30</td>\n",
       "      <td>15908</td>\n",
       "    </tr>\n",
       "    <tr>\n",
       "      <th>2</th>\n",
       "      <td>1375228800000</td>\n",
       "      <td>2013-07-31</td>\n",
       "      <td>15949</td>\n",
       "    </tr>\n",
       "    <tr>\n",
       "      <th>3</th>\n",
       "      <td>1375315200000</td>\n",
       "      <td>2013-08-01</td>\n",
       "      <td>15941</td>\n",
       "    </tr>\n",
       "    <tr>\n",
       "      <th>4</th>\n",
       "      <td>1375401600000</td>\n",
       "      <td>2013-08-02</td>\n",
       "      <td>15980</td>\n",
       "    </tr>\n",
       "  </tbody>\n",
       "</table>\n",
       "</div>"
      ],
      "text/plain": [
       "0           time   datetime  LST_Day_1km\n",
       "0  1375056000000 2013-07-29        15801\n",
       "1  1375142400000 2013-07-30        15908\n",
       "2  1375228800000 2013-07-31        15949\n",
       "3  1375315200000 2013-08-01        15941\n",
       "4  1375401600000 2013-08-02        15980"
      ]
     },
     "execution_count": 20,
     "metadata": {},
     "output_type": "execute_result"
    }
   ],
   "source": [
    "lst_df.head()"
   ]
  },
  {
   "cell_type": "code",
   "execution_count": 21,
   "id": "868b187e-b405-406d-a340-ab7e460fc9a1",
   "metadata": {
    "tags": []
   },
   "outputs": [
    {
     "data": {
      "text/plain": [
       "(467920, 3)"
      ]
     },
     "execution_count": 21,
     "metadata": {},
     "output_type": "execute_result"
    }
   ],
   "source": [
    "lst_df.shape"
   ]
  },
  {
   "cell_type": "code",
   "execution_count": 22,
   "id": "79b8ac37-2564-49b8-87fb-f2567404b299",
   "metadata": {
    "tags": []
   },
   "outputs": [],
   "source": [
    "# Helper function to convert Kelvin to Celsius\n",
    "def kelvin_to_celsius(data):\n",
    "    c =  0.02*data - 273.15\n",
    "    return c"
   ]
  },
  {
   "cell_type": "code",
   "execution_count": 23,
   "id": "f2b462d2-d33a-4747-b859-a8f993728fa4",
   "metadata": {
    "tags": []
   },
   "outputs": [],
   "source": [
    "# create a new column of LST in celsius\n",
    "lst_df['lst_c'] = lst_df['LST_Day_1km'].apply(kelvin_to_celsius)"
   ]
  },
  {
   "cell_type": "code",
   "execution_count": 24,
   "id": "5f565b09-44f4-4d7f-8316-4a3ce895861c",
   "metadata": {
    "tags": []
   },
   "outputs": [
    {
     "data": {
      "text/html": [
       "<div>\n",
       "<style scoped>\n",
       "    .dataframe tbody tr th:only-of-type {\n",
       "        vertical-align: middle;\n",
       "    }\n",
       "\n",
       "    .dataframe tbody tr th {\n",
       "        vertical-align: top;\n",
       "    }\n",
       "\n",
       "    .dataframe thead th {\n",
       "        text-align: right;\n",
       "    }\n",
       "</style>\n",
       "<table border=\"1\" class=\"dataframe\">\n",
       "  <thead>\n",
       "    <tr style=\"text-align: right;\">\n",
       "      <th></th>\n",
       "      <th>time</th>\n",
       "      <th>datetime</th>\n",
       "      <th>LST_Day_1km</th>\n",
       "      <th>lst_c</th>\n",
       "    </tr>\n",
       "  </thead>\n",
       "  <tbody>\n",
       "    <tr>\n",
       "      <th>0</th>\n",
       "      <td>1375056000000</td>\n",
       "      <td>2013-07-29</td>\n",
       "      <td>15801</td>\n",
       "      <td>42.87</td>\n",
       "    </tr>\n",
       "    <tr>\n",
       "      <th>1</th>\n",
       "      <td>1375142400000</td>\n",
       "      <td>2013-07-30</td>\n",
       "      <td>15908</td>\n",
       "      <td>45.01</td>\n",
       "    </tr>\n",
       "    <tr>\n",
       "      <th>2</th>\n",
       "      <td>1375228800000</td>\n",
       "      <td>2013-07-31</td>\n",
       "      <td>15949</td>\n",
       "      <td>45.83</td>\n",
       "    </tr>\n",
       "    <tr>\n",
       "      <th>3</th>\n",
       "      <td>1375315200000</td>\n",
       "      <td>2013-08-01</td>\n",
       "      <td>15941</td>\n",
       "      <td>45.67</td>\n",
       "    </tr>\n",
       "    <tr>\n",
       "      <th>4</th>\n",
       "      <td>1375401600000</td>\n",
       "      <td>2013-08-02</td>\n",
       "      <td>15980</td>\n",
       "      <td>46.45</td>\n",
       "    </tr>\n",
       "  </tbody>\n",
       "</table>\n",
       "</div>"
      ],
      "text/plain": [
       "0           time   datetime  LST_Day_1km  lst_c\n",
       "0  1375056000000 2013-07-29        15801  42.87\n",
       "1  1375142400000 2013-07-30        15908  45.01\n",
       "2  1375228800000 2013-07-31        15949  45.83\n",
       "3  1375315200000 2013-08-01        15941  45.67\n",
       "4  1375401600000 2013-08-02        15980  46.45"
      ]
     },
     "execution_count": 24,
     "metadata": {},
     "output_type": "execute_result"
    }
   ],
   "source": [
    "lst_df.head()"
   ]
  },
  {
   "cell_type": "code",
   "execution_count": 27,
   "id": "59a10492-2e8e-46be-82a4-042eb24472f1",
   "metadata": {
    "tags": []
   },
   "outputs": [],
   "source": [
    "# helper function to add year, month, day etc columns to the dataframe\n",
    "def add_date_info(df):\n",
    "    df['timestamp'] = pd.to_datetime(df['time'], unit='ms')\n",
    "    df['year'] = pd.DatetimeIndex(df['timestamp']).year\n",
    "    df['month'] = pd.DatetimeIndex(df['timestamp']).month\n",
    "    df['day'] = pd.DatetimeIndex(df['timestamp']).day\n",
    "    df['DOY'] = pd.DatetimeIndex(df['timestamp']).dayofyear\n",
    "    df[\"date\"] = pd.to_datetime(lst_df[\"timestamp\"]).dt.date\n",
    "    return df"
   ]
  },
  {
   "cell_type": "code",
   "execution_count": 28,
   "id": "35651f3d-5164-4303-9ceb-78be446091d6",
   "metadata": {
    "tags": []
   },
   "outputs": [
    {
     "data": {
      "text/html": [
       "<div>\n",
       "<style scoped>\n",
       "    .dataframe tbody tr th:only-of-type {\n",
       "        vertical-align: middle;\n",
       "    }\n",
       "\n",
       "    .dataframe tbody tr th {\n",
       "        vertical-align: top;\n",
       "    }\n",
       "\n",
       "    .dataframe thead th {\n",
       "        text-align: right;\n",
       "    }\n",
       "</style>\n",
       "<table border=\"1\" class=\"dataframe\">\n",
       "  <thead>\n",
       "    <tr style=\"text-align: right;\">\n",
       "      <th></th>\n",
       "      <th>time</th>\n",
       "      <th>datetime</th>\n",
       "      <th>LST_Day_1km</th>\n",
       "      <th>lst_c</th>\n",
       "      <th>timestamp</th>\n",
       "      <th>year</th>\n",
       "      <th>month</th>\n",
       "      <th>day</th>\n",
       "      <th>DOY</th>\n",
       "      <th>date</th>\n",
       "    </tr>\n",
       "  </thead>\n",
       "  <tbody>\n",
       "    <tr>\n",
       "      <th>0</th>\n",
       "      <td>1375056000000</td>\n",
       "      <td>2013-07-29</td>\n",
       "      <td>15801</td>\n",
       "      <td>42.87</td>\n",
       "      <td>2013-07-29</td>\n",
       "      <td>2013</td>\n",
       "      <td>7</td>\n",
       "      <td>29</td>\n",
       "      <td>210</td>\n",
       "      <td>2013-07-29</td>\n",
       "    </tr>\n",
       "    <tr>\n",
       "      <th>1</th>\n",
       "      <td>1375142400000</td>\n",
       "      <td>2013-07-30</td>\n",
       "      <td>15908</td>\n",
       "      <td>45.01</td>\n",
       "      <td>2013-07-30</td>\n",
       "      <td>2013</td>\n",
       "      <td>7</td>\n",
       "      <td>30</td>\n",
       "      <td>211</td>\n",
       "      <td>2013-07-30</td>\n",
       "    </tr>\n",
       "    <tr>\n",
       "      <th>2</th>\n",
       "      <td>1375228800000</td>\n",
       "      <td>2013-07-31</td>\n",
       "      <td>15949</td>\n",
       "      <td>45.83</td>\n",
       "      <td>2013-07-31</td>\n",
       "      <td>2013</td>\n",
       "      <td>7</td>\n",
       "      <td>31</td>\n",
       "      <td>212</td>\n",
       "      <td>2013-07-31</td>\n",
       "    </tr>\n",
       "    <tr>\n",
       "      <th>3</th>\n",
       "      <td>1375315200000</td>\n",
       "      <td>2013-08-01</td>\n",
       "      <td>15941</td>\n",
       "      <td>45.67</td>\n",
       "      <td>2013-08-01</td>\n",
       "      <td>2013</td>\n",
       "      <td>8</td>\n",
       "      <td>1</td>\n",
       "      <td>213</td>\n",
       "      <td>2013-08-01</td>\n",
       "    </tr>\n",
       "    <tr>\n",
       "      <th>4</th>\n",
       "      <td>1375401600000</td>\n",
       "      <td>2013-08-02</td>\n",
       "      <td>15980</td>\n",
       "      <td>46.45</td>\n",
       "      <td>2013-08-02</td>\n",
       "      <td>2013</td>\n",
       "      <td>8</td>\n",
       "      <td>2</td>\n",
       "      <td>214</td>\n",
       "      <td>2013-08-02</td>\n",
       "    </tr>\n",
       "  </tbody>\n",
       "</table>\n",
       "</div>"
      ],
      "text/plain": [
       "0           time   datetime  LST_Day_1km  lst_c  timestamp  year  month  day   \n",
       "0  1375056000000 2013-07-29        15801  42.87 2013-07-29  2013      7   29  \\\n",
       "1  1375142400000 2013-07-30        15908  45.01 2013-07-30  2013      7   30   \n",
       "2  1375228800000 2013-07-31        15949  45.83 2013-07-31  2013      7   31   \n",
       "3  1375315200000 2013-08-01        15941  45.67 2013-08-01  2013      8    1   \n",
       "4  1375401600000 2013-08-02        15980  46.45 2013-08-02  2013      8    2   \n",
       "\n",
       "0  DOY        date  \n",
       "0  210  2013-07-29  \n",
       "1  211  2013-07-30  \n",
       "2  212  2013-07-31  \n",
       "3  213  2013-08-01  \n",
       "4  214  2013-08-02  "
      ]
     },
     "execution_count": 28,
     "metadata": {},
     "output_type": "execute_result"
    }
   ],
   "source": [
    "# add date columns to dataframe\n",
    "lst_df = add_date_info(lst_df)\n",
    "lst_df.head(5)"
   ]
  },
  {
   "cell_type": "markdown",
   "id": "dd23b694-c02b-4865-a4da-abe0c9958db7",
   "metadata": {},
   "source": [
    "<br>\n",
    "\n",
    "Plot a heatmap of the average temperature by year and month"
   ]
  },
  {
   "cell_type": "code",
   "execution_count": 29,
   "id": "d90cae25-f8b9-4f90-bd3d-e7ac6b9cb902",
   "metadata": {
    "tags": []
   },
   "outputs": [
    {
     "data": {
      "image/png": "[encoded data removed]",
      "text/plain": [
       "<Figure size 640x480 with 2 Axes>"
      ]
     },
     "metadata": {},
     "output_type": "display_data"
    }
   ],
   "source": [
    "temp = pd.pivot_table(lst_df[['year','month','lst_c']], \n",
    "                      index='month', values='lst_c', columns='year')\n",
    "sns.heatmap(temp, cmap='Spectral_r');"
   ]
  },
  {
   "cell_type": "markdown",
   "id": "48d9e6b2-5c48-43a0-bf6e-e27fb623ea42",
   "metadata": {},
   "source": [
    "<br>\n",
    "\n",
    "By default Earth Engine returns a series of images for each date in the time range we specified. To get a singular image we can either aggregate metrics across the series (e.g. get the mean, ma, total values by pixel), or select a specific image in the series (e.g. the first or last)"
   ]
  },
  {
   "cell_type": "code",
   "execution_count": 30,
   "id": "d4912d09-7e61-400f-a5e6-7a0362cde83e",
   "metadata": {
    "tags": []
   },
   "outputs": [],
   "source": [
    "# Reduce the LST collection by mean.\n",
    "lst_img = lst.mean()\n",
    "# Adjust for scale factor.\n",
    "lst_img = lst_img.select('LST_Day_1km').multiply(0.02)\n",
    "# Convert Kelvin to Celsius.\n",
    "lst_img = lst_img.select('LST_Day_1km').add(-273.15)"
   ]
  },
  {
   "cell_type": "markdown",
   "id": "6436c910-b2c0-446d-87e6-98c6c2dc0018",
   "metadata": {},
   "source": [
    "To download an image to python we need to get a url of the image from EE"
   ]
  },
  {
   "cell_type": "code",
   "execution_count": 31,
   "id": "e01e2864-ee34-47fd-92d1-be8d49e4f527",
   "metadata": {
    "tags": []
   },
   "outputs": [
    {
     "name": "stdout",
     "output_type": "stream",
     "text": [
      "https://earthengine.googleapis.com/v1alpha/projects/earthengine-legacy/thumbnails/39a2e864eb404f857ade921d294f542f-a2d9ce0fd46562c29fe57c794f5ba949:getPixels\n"
     ]
    }
   ],
   "source": [
    "# Create a URL to the styled image for a region around France.\n",
    "url = lst_img.getThumbUrl({\n",
    "    'min': 25, 'max': 40, 'dimensions': 512, 'region': aoi,\n",
    "    'palette': ['white', 'blue', 'green', 'yellow', 'orange', 'red']})\n",
    "print(url)"
   ]
  },
  {
   "cell_type": "code",
   "execution_count": 33,
   "id": "14ecaccb-c2cc-490e-8fc5-fcbb59e6f9f7",
   "metadata": {
    "tags": []
   },
   "outputs": [
    {
     "name": "stdout",
     "output_type": "stream",
     "text": [
      "\n",
      "Please wait while the thumbnail loads, it may take a moment...\n"
     ]
    },
    {
     "data": {
      "text/html": [
       "<img src=\"https://earthengine.googleapis.com/v1alpha/projects/earthengine-legacy/thumbnails/39a2e864eb404f857ade921d294f542f-a2d9ce0fd46562c29fe57c794f5ba949:getPixels\"/>"
      ],
      "text/plain": [
       "<IPython.core.display.Image object>"
      ]
     },
     "execution_count": 33,
     "metadata": {},
     "output_type": "execute_result"
    }
   ],
   "source": [
    "# Display the thumbnail land surface temperature in France.\n",
    "print('\\nPlease wait while the thumbnail loads, it may take a moment...')\n",
    "disp.Image(url=url)"
   ]
  },
  {
   "cell_type": "markdown",
   "id": "b228b62a-0803-4fff-a333-3c95e0d73502",
   "metadata": {},
   "source": [
    "# Plot the satellite data on a map in Folium"
   ]
  },
  {
   "cell_type": "code",
   "execution_count": 34,
   "id": "7e8ce0e4-d154-4f10-835d-c4e19b953755",
   "metadata": {
    "tags": []
   },
   "outputs": [],
   "source": [
    "from itertools import chain"
   ]
  },
  {
   "cell_type": "markdown",
   "id": "644ee5f2-7dd2-44d8-9b22-3776d7d9e147",
   "metadata": {},
   "source": [
    "Get a centroid from our GeoJSON of the area of interest"
   ]
  },
  {
   "cell_type": "code",
   "execution_count": 35,
   "id": "a9e9e263-0c70-4711-9800-6670cb3bdf10",
   "metadata": {
    "tags": []
   },
   "outputs": [],
   "source": [
    "ct = Polygon(list(chain(geo['features'][0]['geometry']['coordinates'][0]))).centroid"
   ]
  },
  {
   "cell_type": "code",
   "execution_count": 36,
   "id": "6ca6602a-6b5f-4451-893b-333089b55bcf",
   "metadata": {
    "tags": []
   },
   "outputs": [
    {
     "data": {
      "text/plain": [
       "(38.78386781532498, 34.94804426958253)"
      ]
     },
     "execution_count": 36,
     "metadata": {},
     "output_type": "execute_result"
    }
   ],
   "source": [
    "ct.x, ct.y"
   ]
  },
  {
   "cell_type": "code",
   "execution_count": 37,
   "id": "57a8b99d-f7c8-4829-8577-b5cc7c91de6f",
   "metadata": {
    "tags": []
   },
   "outputs": [
    {
     "data": {
      "text/html": [
       "<div style=\"width:100%;\"><div style=\"position:relative;width:100%;height:0;padding-bottom:60%;\"><span style=\"color:#565656\">Make this Notebook Trusted to load map: File -> Trust Notebook</span><iframe srcdoc=\"&lt;!DOCTYPE html&gt;\n",
       "&lt;html&gt;\n",
       "&lt;head&gt;\n",
       "    \n",
       "    &lt;meta http-equiv=&quot;content-type&quot; content=&quot;text/html; charset=UTF-8&quot; /&gt;\n",
       "    \n",
       "        &lt;script&gt;\n",
       "            L_NO_TOUCH = false;\n",
       "            L_DISABLE_3D = false;\n",
       "        &lt;/script&gt;\n",
       "    \n",
       "    &lt;style&gt;html, body {width: 100%;height: 100%;margin: 0;padding: 0;}&lt;/style&gt;\n",
       "    &lt;style&gt;#map {position:absolute;top:0;bottom:0;right:0;left:0;}&lt;/style&gt;\n",
       "    &lt;script src=&quot;https://cdn.jsdelivr.net/npm/leaflet@1.9.3/dist/leaflet.js&quot;&gt;&lt;/script&gt;\n",
       "    &lt;script src=&quot;https://code.jquery.com/jquery-1.12.4.min.js&quot;&gt;&lt;/script&gt;\n",
       "    &lt;script src=&quot;https://cdn.jsdelivr.net/npm/bootstrap@5.2.2/dist/js/bootstrap.bundle.min.js&quot;&gt;&lt;/script&gt;\n",
       "    &lt;script src=&quot;https://cdnjs.cloudflare.com/ajax/libs/Leaflet.awesome-markers/2.0.2/leaflet.awesome-markers.js&quot;&gt;&lt;/script&gt;\n",
       "    &lt;link rel=&quot;stylesheet&quot; href=&quot;https://cdn.jsdelivr.net/npm/leaflet@1.9.3/dist/leaflet.css&quot;/&gt;\n",
       "    &lt;link rel=&quot;stylesheet&quot; href=&quot;https://cdn.jsdelivr.net/npm/bootstrap@5.2.2/dist/css/bootstrap.min.css&quot;/&gt;\n",
       "    &lt;link rel=&quot;stylesheet&quot; href=&quot;https://netdna.bootstrapcdn.com/bootstrap/3.0.0/css/bootstrap.min.css&quot;/&gt;\n",
       "    &lt;link rel=&quot;stylesheet&quot; href=&quot;https://cdn.jsdelivr.net/npm/@fortawesome/fontawesome-free@6.2.0/css/all.min.css&quot;/&gt;\n",
       "    &lt;link rel=&quot;stylesheet&quot; href=&quot;https://cdnjs.cloudflare.com/ajax/libs/Leaflet.awesome-markers/2.0.2/leaflet.awesome-markers.css&quot;/&gt;\n",
       "    &lt;link rel=&quot;stylesheet&quot; href=&quot;https://cdn.jsdelivr.net/gh/python-visualization/folium/folium/templates/leaflet.awesome.rotate.min.css&quot;/&gt;\n",
       "    \n",
       "            &lt;meta name=&quot;viewport&quot; content=&quot;width=device-width,\n",
       "                initial-scale=1.0, maximum-scale=1.0, user-scalable=no&quot; /&gt;\n",
       "            &lt;style&gt;\n",
       "                #map_9d92b7cf19a3eb137b51b972f9d7b62a {\n",
       "                    position: relative;\n",
       "                    width: 100.0%;\n",
       "                    height: 100.0%;\n",
       "                    left: 0.0%;\n",
       "                    top: 0.0%;\n",
       "                }\n",
       "                .leaflet-container { font-size: 1rem; }\n",
       "            &lt;/style&gt;\n",
       "        \n",
       "&lt;/head&gt;\n",
       "&lt;body&gt;\n",
       "    \n",
       "    \n",
       "            &lt;div class=&quot;folium-map&quot; id=&quot;map_9d92b7cf19a3eb137b51b972f9d7b62a&quot; &gt;&lt;/div&gt;\n",
       "        \n",
       "&lt;/body&gt;\n",
       "&lt;script&gt;\n",
       "    \n",
       "    \n",
       "            var map_9d92b7cf19a3eb137b51b972f9d7b62a = L.map(\n",
       "                &quot;map_9d92b7cf19a3eb137b51b972f9d7b62a&quot;,\n",
       "                {\n",
       "                    center: [34.94804426958253, 38.78386781532498],\n",
       "                    crs: L.CRS.EPSG3857,\n",
       "                    zoom: 7,\n",
       "                    zoomControl: true,\n",
       "                    preferCanvas: false,\n",
       "                }\n",
       "            );\n",
       "\n",
       "            \n",
       "\n",
       "        \n",
       "    \n",
       "            var tile_layer_f7c744874c5d20003aacb2f08a37b0cd = L.tileLayer(\n",
       "                &quot;https://{s}.tile.openstreetmap.org/{z}/{x}/{y}.png&quot;,\n",
       "                {&quot;attribution&quot;: &quot;Data by \\u0026copy; \\u003ca target=\\&quot;_blank\\&quot; href=\\&quot;http://openstreetmap.org\\&quot;\\u003eOpenStreetMap\\u003c/a\\u003e, under \\u003ca target=\\&quot;_blank\\&quot; href=\\&quot;http://www.openstreetmap.org/copyright\\&quot;\\u003eODbL\\u003c/a\\u003e.&quot;, &quot;detectRetina&quot;: false, &quot;maxNativeZoom&quot;: 18, &quot;maxZoom&quot;: 18, &quot;minZoom&quot;: 0, &quot;noWrap&quot;: false, &quot;opacity&quot;: 1, &quot;subdomains&quot;: &quot;abc&quot;, &quot;tms&quot;: false}\n",
       "            ).addTo(map_9d92b7cf19a3eb137b51b972f9d7b62a);\n",
       "        \n",
       "&lt;/script&gt;\n",
       "&lt;/html&gt;\" style=\"position:absolute;width:100%;height:100%;left:0;top:0;border:none !important;\" allowfullscreen webkitallowfullscreen mozallowfullscreen></iframe></div></div>"
      ],
      "text/plain": [
       "<folium.folium.Map at 0x142692550>"
      ]
     },
     "execution_count": 37,
     "metadata": {},
     "output_type": "execute_result"
    }
   ],
   "source": [
    "# Define the center of our map.\n",
    "lat, lon = ct.y, ct.x\n",
    "\n",
    "my_map = folium.Map(location=[lat, lon], zoom_start=7)\n",
    "my_map"
   ]
  },
  {
   "cell_type": "code",
   "execution_count": 38,
   "id": "8f099cd8-ab58-41bd-b09d-52610396021c",
   "metadata": {
    "tags": []
   },
   "outputs": [],
   "source": [
    "# Helper function to add satellite data to Folium\n",
    "def add_ee_layer(self, ee_image_object, vis_params, name):\n",
    "    \"\"\"Adds a method for displaying Earth Engine image tiles to folium map.\"\"\"\n",
    "    map_id_dict = ee.Image(ee_image_object).getMapId(vis_params)\n",
    "    folium.raster_layers.TileLayer(\n",
    "        tiles=map_id_dict['tile_fetcher'].url_format,\n",
    "        attr='Map Data © Google Earth Engine',\n",
    "        name=name,\n",
    "        overlay=True,\n",
    "        control=True\n",
    "    ).add_to(self)\n",
    "\n",
    "# Add Earth Engine drawing method to folium.\n",
    "folium.Map.add_ee_layer = add_ee_layer"
   ]
  },
  {
   "cell_type": "code",
   "execution_count": 39,
   "id": "2762eef1-4397-4aa3-bd6c-fcd45764f763",
   "metadata": {
    "tags": []
   },
   "outputs": [],
   "source": [
    "# Set visualization parameters for land surface temperature.\n",
    "lst_vis_params = {\n",
    "    'min': 25, 'max': 40,\n",
    "    'palette': ['white', 'blue', 'green', 'yellow', 'orange', 'red']}"
   ]
  },
  {
   "cell_type": "code",
   "execution_count": 40,
   "id": "14666253-6548-4ba5-9a8d-f30b1422a79c",
   "metadata": {
    "tags": []
   },
   "outputs": [],
   "source": [
    "ee_tiles = [lst_img]\n",
    "ee_vis_params = [lst_vis_params]\n",
    "ee_tiles_names = ['Land Surface Temperature']"
   ]
  },
  {
   "cell_type": "code",
   "execution_count": 41,
   "id": "9a5d6f38-9c4c-4ad6-85a7-ab45e22f2fd7",
   "metadata": {
    "tags": []
   },
   "outputs": [
    {
     "data": {
      "text/html": [
       "<div style=\"width:100%;\"><div style=\"position:relative;width:100%;height:0;padding-bottom:60%;\"><span style=\"color:#565656\">Make this Notebook Trusted to load map: File -> Trust Notebook</span><iframe srcdoc=\"&lt;!DOCTYPE html&gt;\n",
       "&lt;html&gt;\n",
       "&lt;head&gt;\n",
       "    \n",
       "    &lt;meta http-equiv=&quot;content-type&quot; content=&quot;text/html; charset=UTF-8&quot; /&gt;\n",
       "    \n",
       "        &lt;script&gt;\n",
       "            L_NO_TOUCH = false;\n",
       "            L_DISABLE_3D = false;\n",
       "        &lt;/script&gt;\n",
       "    \n",
       "    &lt;style&gt;html, body {width: 100%;height: 100%;margin: 0;padding: 0;}&lt;/style&gt;\n",
       "    &lt;style&gt;#map {position:absolute;top:0;bottom:0;right:0;left:0;}&lt;/style&gt;\n",
       "    &lt;script src=&quot;https://cdn.jsdelivr.net/npm/leaflet@1.9.3/dist/leaflet.js&quot;&gt;&lt;/script&gt;\n",
       "    &lt;script src=&quot;https://code.jquery.com/jquery-1.12.4.min.js&quot;&gt;&lt;/script&gt;\n",
       "    &lt;script src=&quot;https://cdn.jsdelivr.net/npm/bootstrap@5.2.2/dist/js/bootstrap.bundle.min.js&quot;&gt;&lt;/script&gt;\n",
       "    &lt;script src=&quot;https://cdnjs.cloudflare.com/ajax/libs/Leaflet.awesome-markers/2.0.2/leaflet.awesome-markers.js&quot;&gt;&lt;/script&gt;\n",
       "    &lt;link rel=&quot;stylesheet&quot; href=&quot;https://cdn.jsdelivr.net/npm/leaflet@1.9.3/dist/leaflet.css&quot;/&gt;\n",
       "    &lt;link rel=&quot;stylesheet&quot; href=&quot;https://cdn.jsdelivr.net/npm/bootstrap@5.2.2/dist/css/bootstrap.min.css&quot;/&gt;\n",
       "    &lt;link rel=&quot;stylesheet&quot; href=&quot;https://netdna.bootstrapcdn.com/bootstrap/3.0.0/css/bootstrap.min.css&quot;/&gt;\n",
       "    &lt;link rel=&quot;stylesheet&quot; href=&quot;https://cdn.jsdelivr.net/npm/@fortawesome/fontawesome-free@6.2.0/css/all.min.css&quot;/&gt;\n",
       "    &lt;link rel=&quot;stylesheet&quot; href=&quot;https://cdnjs.cloudflare.com/ajax/libs/Leaflet.awesome-markers/2.0.2/leaflet.awesome-markers.css&quot;/&gt;\n",
       "    &lt;link rel=&quot;stylesheet&quot; href=&quot;https://cdn.jsdelivr.net/gh/python-visualization/folium/folium/templates/leaflet.awesome.rotate.min.css&quot;/&gt;\n",
       "    \n",
       "            &lt;meta name=&quot;viewport&quot; content=&quot;width=device-width,\n",
       "                initial-scale=1.0, maximum-scale=1.0, user-scalable=no&quot; /&gt;\n",
       "            &lt;style&gt;\n",
       "                #map_e53a813bc36c3fece948d22749b3f417 {\n",
       "                    position: relative;\n",
       "                    width: 100.0%;\n",
       "                    height: 100.0%;\n",
       "                    left: 0.0%;\n",
       "                    top: 0.0%;\n",
       "                }\n",
       "                .leaflet-container { font-size: 1rem; }\n",
       "            &lt;/style&gt;\n",
       "        \n",
       "&lt;/head&gt;\n",
       "&lt;body&gt;\n",
       "    \n",
       "    \n",
       "            &lt;div class=&quot;folium-map&quot; id=&quot;map_e53a813bc36c3fece948d22749b3f417&quot; &gt;&lt;/div&gt;\n",
       "        \n",
       "&lt;/body&gt;\n",
       "&lt;script&gt;\n",
       "    \n",
       "    \n",
       "            var map_e53a813bc36c3fece948d22749b3f417 = L.map(\n",
       "                &quot;map_e53a813bc36c3fece948d22749b3f417&quot;,\n",
       "                {\n",
       "                    center: [34.94804426958253, 38.78386781532498],\n",
       "                    crs: L.CRS.EPSG3857,\n",
       "                    zoom: 7,\n",
       "                    zoomControl: true,\n",
       "                    preferCanvas: false,\n",
       "                }\n",
       "            );\n",
       "\n",
       "            \n",
       "\n",
       "        \n",
       "    \n",
       "            var tile_layer_aae1e5c876628680bc880fb125644f80 = L.tileLayer(\n",
       "                &quot;https://stamen-tiles-{s}.a.ssl.fastly.net/toner/{z}/{x}/{y}.png&quot;,\n",
       "                {&quot;attribution&quot;: &quot;Map tiles by \\u003ca target=\\&quot;_blank\\&quot; href=\\&quot;http://stamen.com\\&quot;\\u003eStamen Design\\u003c/a\\u003e, under \\u003ca target=\\&quot;_blank\\&quot; href=\\&quot;http://creativecommons.org/licenses/by/3.0\\&quot;\\u003eCC BY 3.0\\u003c/a\\u003e. Data by \\u0026copy; \\u003ca target=\\&quot;_blank\\&quot; href=\\&quot;http://openstreetmap.org\\&quot;\\u003eOpenStreetMap\\u003c/a\\u003e, under \\u003ca target=\\&quot;_blank\\&quot; href=\\&quot;http://www.openstreetmap.org/copyright\\&quot;\\u003eODbL\\u003c/a\\u003e.&quot;, &quot;detectRetina&quot;: false, &quot;maxNativeZoom&quot;: 18, &quot;maxZoom&quot;: 18, &quot;minZoom&quot;: 0, &quot;noWrap&quot;: false, &quot;opacity&quot;: 1, &quot;subdomains&quot;: &quot;abc&quot;, &quot;tms&quot;: false}\n",
       "            ).addTo(map_e53a813bc36c3fece948d22749b3f417);\n",
       "        \n",
       "    \n",
       "            var tile_layer_fe3fec4db4496fdaf1cb11cd99d605fb = L.tileLayer(\n",
       "                &quot;https://earthengine.googleapis.com/v1alpha/projects/earthengine-legacy/maps/966efd750804ef952ced49012086bc08-18486e90a355fec51b4ae8cf5b3bfa97/tiles/{z}/{x}/{y}&quot;,\n",
       "                {&quot;attribution&quot;: &quot;Map Data \\u00a9 Google Earth Engine&quot;, &quot;detectRetina&quot;: false, &quot;maxNativeZoom&quot;: 18, &quot;maxZoom&quot;: 18, &quot;minZoom&quot;: 0, &quot;noWrap&quot;: false, &quot;opacity&quot;: 1, &quot;subdomains&quot;: &quot;abc&quot;, &quot;tms&quot;: false}\n",
       "            ).addTo(map_e53a813bc36c3fece948d22749b3f417);\n",
       "        \n",
       "    \n",
       "            var layer_control_c9f42205e892070cbd7274f9e499b22a = {\n",
       "                base_layers : {\n",
       "                    &quot;stamentoner&quot; : tile_layer_aae1e5c876628680bc880fb125644f80,\n",
       "                },\n",
       "                overlays :  {\n",
       "                    &quot;Land Surface Temperature&quot; : tile_layer_fe3fec4db4496fdaf1cb11cd99d605fb,\n",
       "                },\n",
       "            };\n",
       "            L.control.layers(\n",
       "                layer_control_c9f42205e892070cbd7274f9e499b22a.base_layers,\n",
       "                layer_control_c9f42205e892070cbd7274f9e499b22a.overlays,\n",
       "                {&quot;autoZIndex&quot;: true, &quot;collapsed&quot;: false, &quot;position&quot;: &quot;topright&quot;}\n",
       "            ).addTo(map_e53a813bc36c3fece948d22749b3f417);\n",
       "        \n",
       "&lt;/script&gt;\n",
       "&lt;/html&gt;\" style=\"position:absolute;width:100%;height:100%;left:0;top:0;border:none !important;\" allowfullscreen webkitallowfullscreen mozallowfullscreen></iframe></div></div>"
      ],
      "text/plain": [
       "<folium.folium.Map at 0x141677b90>"
      ]
     },
     "execution_count": 41,
     "metadata": {},
     "output_type": "execute_result"
    }
   ],
   "source": [
    "my_map = folium.Map(location=[lat, lon], zoom_start=7, tiles=\"Stamen Toner\")\n",
    "# Add layers to the map using a loop.\n",
    "for tile, vis_param, name in zip(ee_tiles, ee_vis_params, ee_tiles_names):\n",
    "    my_map.add_ee_layer(tile, vis_param, name)\n",
    "\n",
    "folium.LayerControl(collapsed = False).add_to(my_map)\n",
    "\n",
    "my_map"
   ]
  },
  {
   "cell_type": "code",
   "execution_count": 42,
   "id": "e94c20e1-16dd-475b-9645-ce6a35aef443",
   "metadata": {
    "tags": []
   },
   "outputs": [],
   "source": [
    "# get the first of the month for each of the observations\n",
    "lst_df['month_start'] = lst_df['datetime'].to_numpy().astype('datetime64[M]')"
   ]
  },
  {
   "cell_type": "code",
   "execution_count": 43,
   "id": "535ee0ce-c7e6-46b5-a388-d9e9b33765c4",
   "metadata": {
    "tags": []
   },
   "outputs": [
    {
     "data": {
      "image/png": "[encoded data removed]",
      "text/plain": [
       "<Figure size 640x480 with 1 Axes>"
      ]
     },
     "metadata": {},
     "output_type": "display_data"
    }
   ],
   "source": [
    "# plot the mean LST by month\n",
    "lst_df.groupby('month_start')['lst_c'].mean().plot();"
   ]
  },
  {
   "cell_type": "code",
   "execution_count": 70,
   "id": "28b85f21-8d44-40cf-a649-d814034392a8",
   "metadata": {
    "tags": []
   },
   "outputs": [
    {
     "data": {
      "image/png": "[encoded data removed]",
      "text/plain": [
       "<Figure size 640x480 with 1 Axes>"
      ]
     },
     "metadata": {},
     "output_type": "display_data"
    }
   ],
   "source": [
    "grouped = lst_df.groupby(['year', 'month'])['lst_c'].mean().reset_index()\n",
    "grouped = pd.pivot_table(grouped, index=\"month\", columns=\"year\", values=\"lst_c\")\n",
    "sns.lineplot(data=grouped, dashes=False)\n",
    "plt.legend(loc='upper center', bbox_to_anchor=(0.5, 1.25),\n",
    "          ncol=3, fancybox=True, shadow=True);"
   ]
  },
  {
   "cell_type": "markdown",
   "id": "63a9d3fa-4aca-450d-bee0-67cdd5a063ea",
   "metadata": {},
   "source": [
    "<br>\n",
    "<br>\n",
    "<br>\n",
    "\n",
    "# Appendix: Add conflict data to LST map\n",
    "\n",
    "We can easily layer in other data sources in the Folium LST map. The below example gets data from the [Uppsala Conflict Data Program](https://ucdp.uu.se/downloads/index.html#ged_global) on conflict locations around the wold. We filter the data to those taken place in Syria and use a KDE plot to show the density of conflict zones in relation to LST."
   ]
  },
  {
   "cell_type": "code",
   "execution_count": 71,
   "id": "78587d9d-f4da-4ef8-8c32-a95fbaba311d",
   "metadata": {
    "tags": []
   },
   "outputs": [
    {
     "name": "stderr",
     "output_type": "stream",
     "text": [
      "/var/folders/gb/1fqzwzyx2qscq3bq5w41zbf80000gp/T/ipykernel_65743/352144413.py:1: DtypeWarning: Columns (47) have mixed types. Specify dtype option on import or set low_memory=False.\n",
      "  ucdp = pd.read_csv('/Users/carlo.bailey/Downloads/GEDEvent_v23_1.csv')\n"
     ]
    },
    {
     "data": {
      "text/plain": [
       "(316818, 49)"
      ]
     },
     "execution_count": 71,
     "metadata": {},
     "output_type": "execute_result"
    }
   ],
   "source": [
    "ucdp = pd.read_csv('/Users/carlo.bailey/Downloads/GEDEvent_v23_1.csv')\n",
    "ucdp.shape"
   ]
  },
  {
   "cell_type": "code",
   "execution_count": 72,
   "id": "c2a004fb-cf51-4bb1-a6f9-fac09f4b834b",
   "metadata": {
    "tags": []
   },
   "outputs": [],
   "source": [
    "mask = (ucdp['country']=='Syria') & (ucdp['date_start']>'2013-06-30')\n",
    "ucdp = ucdp.loc[mask]\n",
    "ucdp['date_start'] = ucdp['date_start'].to_numpy().astype('datetime64[M]')"
   ]
  },
  {
   "cell_type": "code",
   "execution_count": 73,
   "id": "140bbbe5-1f3a-4527-9b18-0b54ea500455",
   "metadata": {
    "tags": []
   },
   "outputs": [],
   "source": [
    "ucdp = ucdp[ucdp['number_of_sources']>=6]"
   ]
  },
  {
   "cell_type": "code",
   "execution_count": 74,
   "id": "31f4cdbc-c18d-4912-8a76-f0139c9daf72",
   "metadata": {
    "tags": []
   },
   "outputs": [
    {
     "data": {
      "text/html": [
       "<div>\n",
       "<style scoped>\n",
       "    .dataframe tbody tr th:only-of-type {\n",
       "        vertical-align: middle;\n",
       "    }\n",
       "\n",
       "    .dataframe tbody tr th {\n",
       "        vertical-align: top;\n",
       "    }\n",
       "\n",
       "    .dataframe thead th {\n",
       "        text-align: right;\n",
       "    }\n",
       "</style>\n",
       "<table border=\"1\" class=\"dataframe\">\n",
       "  <thead>\n",
       "    <tr style=\"text-align: right;\">\n",
       "      <th></th>\n",
       "      <th>id</th>\n",
       "      <th>relid</th>\n",
       "      <th>year</th>\n",
       "      <th>active_year</th>\n",
       "      <th>code_status</th>\n",
       "      <th>type_of_violence</th>\n",
       "      <th>conflict_dset_id</th>\n",
       "      <th>conflict_new_id</th>\n",
       "      <th>conflict_name</th>\n",
       "      <th>dyad_dset_id</th>\n",
       "      <th>...</th>\n",
       "      <th>date_end</th>\n",
       "      <th>deaths_a</th>\n",
       "      <th>deaths_b</th>\n",
       "      <th>deaths_civilians</th>\n",
       "      <th>deaths_unknown</th>\n",
       "      <th>best</th>\n",
       "      <th>high</th>\n",
       "      <th>low</th>\n",
       "      <th>gwnoa</th>\n",
       "      <th>gwnob</th>\n",
       "    </tr>\n",
       "  </thead>\n",
       "  <tbody>\n",
       "    <tr>\n",
       "      <th>205213</th>\n",
       "      <td>153777</td>\n",
       "      <td>IRQ-2014-1-448-630.2</td>\n",
       "      <td>2014</td>\n",
       "      <td>1</td>\n",
       "      <td>Clear</td>\n",
       "      <td>1</td>\n",
       "      <td>259</td>\n",
       "      <td>259</td>\n",
       "      <td>Iraq: Government</td>\n",
       "      <td>524</td>\n",
       "      <td>...</td>\n",
       "      <td>2014-09-23 00:00:00.000</td>\n",
       "      <td>0</td>\n",
       "      <td>23</td>\n",
       "      <td>2</td>\n",
       "      <td>0</td>\n",
       "      <td>25</td>\n",
       "      <td>24</td>\n",
       "      <td>25</td>\n",
       "      <td>645.0</td>\n",
       "      <td>NaN</td>\n",
       "    </tr>\n",
       "    <tr>\n",
       "      <th>205214</th>\n",
       "      <td>153778</td>\n",
       "      <td>IRQ-2014-1-448-630.3</td>\n",
       "      <td>2014</td>\n",
       "      <td>1</td>\n",
       "      <td>Clear</td>\n",
       "      <td>1</td>\n",
       "      <td>259</td>\n",
       "      <td>259</td>\n",
       "      <td>Iraq: Government</td>\n",
       "      <td>524</td>\n",
       "      <td>...</td>\n",
       "      <td>2014-09-23 00:00:00.000</td>\n",
       "      <td>0</td>\n",
       "      <td>23</td>\n",
       "      <td>1</td>\n",
       "      <td>0</td>\n",
       "      <td>24</td>\n",
       "      <td>25</td>\n",
       "      <td>25</td>\n",
       "      <td>645.0</td>\n",
       "      <td>NaN</td>\n",
       "    </tr>\n",
       "    <tr>\n",
       "      <th>205506</th>\n",
       "      <td>153201</td>\n",
       "      <td>AFG-2014-1-360-3</td>\n",
       "      <td>2014</td>\n",
       "      <td>1</td>\n",
       "      <td>Clear</td>\n",
       "      <td>1</td>\n",
       "      <td>418</td>\n",
       "      <td>418</td>\n",
       "      <td>United States of America: Government</td>\n",
       "      <td>878</td>\n",
       "      <td>...</td>\n",
       "      <td>2014-09-23 00:00:00.000</td>\n",
       "      <td>0</td>\n",
       "      <td>57</td>\n",
       "      <td>4</td>\n",
       "      <td>0</td>\n",
       "      <td>61</td>\n",
       "      <td>61</td>\n",
       "      <td>61</td>\n",
       "      <td>2.0</td>\n",
       "      <td>NaN</td>\n",
       "    </tr>\n",
       "    <tr>\n",
       "      <th>205507</th>\n",
       "      <td>293160</td>\n",
       "      <td>USA-2014-1-878-4</td>\n",
       "      <td>2014</td>\n",
       "      <td>1</td>\n",
       "      <td>Clear</td>\n",
       "      <td>1</td>\n",
       "      <td>418</td>\n",
       "      <td>418</td>\n",
       "      <td>United States of America: Government</td>\n",
       "      <td>878</td>\n",
       "      <td>...</td>\n",
       "      <td>2014-09-23 00:00:00.000</td>\n",
       "      <td>0</td>\n",
       "      <td>13</td>\n",
       "      <td>13</td>\n",
       "      <td>0</td>\n",
       "      <td>26</td>\n",
       "      <td>29</td>\n",
       "      <td>20</td>\n",
       "      <td>2.0</td>\n",
       "      <td>NaN</td>\n",
       "    </tr>\n",
       "    <tr>\n",
       "      <th>205509</th>\n",
       "      <td>153647</td>\n",
       "      <td>USA-2014-1-878-1</td>\n",
       "      <td>2014</td>\n",
       "      <td>1</td>\n",
       "      <td>Clear</td>\n",
       "      <td>1</td>\n",
       "      <td>418</td>\n",
       "      <td>418</td>\n",
       "      <td>United States of America: Government</td>\n",
       "      <td>878</td>\n",
       "      <td>...</td>\n",
       "      <td>2014-11-06 00:00:00.000</td>\n",
       "      <td>0</td>\n",
       "      <td>0</td>\n",
       "      <td>6</td>\n",
       "      <td>0</td>\n",
       "      <td>6</td>\n",
       "      <td>6</td>\n",
       "      <td>4</td>\n",
       "      <td>2.0</td>\n",
       "      <td>NaN</td>\n",
       "    </tr>\n",
       "  </tbody>\n",
       "</table>\n",
       "<p>5 rows × 49 columns</p>\n",
       "</div>"
      ],
      "text/plain": [
       "            id                 relid  year  active_year code_status   \n",
       "205213  153777  IRQ-2014-1-448-630.2  2014            1       Clear  \\\n",
       "205214  153778  IRQ-2014-1-448-630.3  2014            1       Clear   \n",
       "205506  153201      AFG-2014-1-360-3  2014            1       Clear   \n",
       "205507  293160      USA-2014-1-878-4  2014            1       Clear   \n",
       "205509  153647      USA-2014-1-878-1  2014            1       Clear   \n",
       "\n",
       "        type_of_violence  conflict_dset_id  conflict_new_id   \n",
       "205213                 1               259              259  \\\n",
       "205214                 1               259              259   \n",
       "205506                 1               418              418   \n",
       "205507                 1               418              418   \n",
       "205509                 1               418              418   \n",
       "\n",
       "                               conflict_name  dyad_dset_id  ...   \n",
       "205213                      Iraq: Government           524  ...  \\\n",
       "205214                      Iraq: Government           524  ...   \n",
       "205506  United States of America: Government           878  ...   \n",
       "205507  United States of America: Government           878  ...   \n",
       "205509  United States of America: Government           878  ...   \n",
       "\n",
       "                       date_end deaths_a  deaths_b  deaths_civilians   \n",
       "205213  2014-09-23 00:00:00.000        0        23                 2  \\\n",
       "205214  2014-09-23 00:00:00.000        0        23                 1   \n",
       "205506  2014-09-23 00:00:00.000        0        57                 4   \n",
       "205507  2014-09-23 00:00:00.000        0        13                13   \n",
       "205509  2014-11-06 00:00:00.000        0         0                 6   \n",
       "\n",
       "       deaths_unknown  best  high low  gwnoa gwnob  \n",
       "205213              0    25    24  25  645.0   NaN  \n",
       "205214              0    24    25  25  645.0   NaN  \n",
       "205506              0    61    61  61    2.0   NaN  \n",
       "205507              0    26    29  20    2.0   NaN  \n",
       "205509              0     6     6   4    2.0   NaN  \n",
       "\n",
       "[5 rows x 49 columns]"
      ]
     },
     "execution_count": 74,
     "metadata": {},
     "output_type": "execute_result"
    }
   ],
   "source": [
    "ucdp.head()"
   ]
  },
  {
   "cell_type": "code",
   "execution_count": 75,
   "id": "72ce0ecc-2759-4459-8365-d82f365b8fb3",
   "metadata": {
    "tags": []
   },
   "outputs": [],
   "source": [
    "ucdp['points'] = ucdp.apply(lambda x: Point([x['longitude'], x['latitude']]), axis=1)"
   ]
  },
  {
   "cell_type": "code",
   "execution_count": 76,
   "id": "6252780f-2f0f-4181-b02d-e0a0f20a3aa2",
   "metadata": {
    "tags": []
   },
   "outputs": [],
   "source": [
    "ucdp = gpd.GeoDataFrame(ucdp, geometry='points', crs='EPSG:4326')"
   ]
  },
  {
   "cell_type": "code",
   "execution_count": 77,
   "id": "4b3374aa-ef13-4632-b6ef-bc35f2fbf18c",
   "metadata": {
    "tags": []
   },
   "outputs": [
    {
     "data": {
      "text/plain": [
       "(257, 50)"
      ]
     },
     "execution_count": 77,
     "metadata": {},
     "output_type": "execute_result"
    }
   ],
   "source": [
    "ucdp.shape"
   ]
  },
  {
   "cell_type": "code",
   "execution_count": 78,
   "id": "b49cae06-bc37-4259-923a-17e3d934b9c2",
   "metadata": {
    "tags": []
   },
   "outputs": [
    {
     "data": {
      "text/plain": [
       "<Axes: >"
      ]
     },
     "execution_count": 78,
     "metadata": {},
     "output_type": "execute_result"
    },
    {
     "data": {
      "image/png": "[encoded data removed]",
      "text/plain": [
       "<Figure size 640x480 with 1 Axes>"
      ]
     },
     "metadata": {},
     "output_type": "display_data"
    }
   ],
   "source": [
    "ucdp.plot()"
   ]
  },
  {
   "cell_type": "code",
   "execution_count": 79,
   "id": "f73c0b16-c97e-40e0-99ea-d5bceff2981c",
   "metadata": {
    "tags": []
   },
   "outputs": [
    {
     "data": {
      "text/html": [
       "<div style=\"width:100%;\"><div style=\"position:relative;width:100%;height:0;padding-bottom:60%;\"><span style=\"color:#565656\">Make this Notebook Trusted to load map: File -> Trust Notebook</span><iframe srcdoc=\"&lt;!DOCTYPE html&gt;\n",
       "&lt;html&gt;\n",
       "&lt;head&gt;\n",
       "    \n",
       "    &lt;meta http-equiv=&quot;content-type&quot; content=&quot;text/html; charset=UTF-8&quot; /&gt;\n",
       "    \n",
       "        &lt;script&gt;\n",
       "            L_NO_TOUCH = false;\n",
       "            L_DISABLE_3D = false;\n",
       "        &lt;/script&gt;\n",
       "    \n",
       "    &lt;style&gt;html, body {width: 100%;height: 100%;margin: 0;padding: 0;}&lt;/style&gt;\n",
       "    &lt;style&gt;#map {position:absolute;top:0;bottom:0;right:0;left:0;}&lt;/style&gt;\n",
       "    &lt;script src=&quot;https://cdn.jsdelivr.net/npm/leaflet@1.9.3/dist/leaflet.js&quot;&gt;&lt;/script&gt;\n",
       "    &lt;script src=&quot;https://code.jquery.com/jquery-1.12.4.min.js&quot;&gt;&lt;/script&gt;\n",
       "    &lt;script src=&quot;https://cdn.jsdelivr.net/npm/bootstrap@5.2.2/dist/js/bootstrap.bundle.min.js&quot;&gt;&lt;/script&gt;\n",
       "    &lt;script src=&quot;https://cdnjs.cloudflare.com/ajax/libs/Leaflet.awesome-markers/2.0.2/leaflet.awesome-markers.js&quot;&gt;&lt;/script&gt;\n",
       "    &lt;link rel=&quot;stylesheet&quot; href=&quot;https://cdn.jsdelivr.net/npm/leaflet@1.9.3/dist/leaflet.css&quot;/&gt;\n",
       "    &lt;link rel=&quot;stylesheet&quot; href=&quot;https://cdn.jsdelivr.net/npm/bootstrap@5.2.2/dist/css/bootstrap.min.css&quot;/&gt;\n",
       "    &lt;link rel=&quot;stylesheet&quot; href=&quot;https://netdna.bootstrapcdn.com/bootstrap/3.0.0/css/bootstrap.min.css&quot;/&gt;\n",
       "    &lt;link rel=&quot;stylesheet&quot; href=&quot;https://cdn.jsdelivr.net/npm/@fortawesome/fontawesome-free@6.2.0/css/all.min.css&quot;/&gt;\n",
       "    &lt;link rel=&quot;stylesheet&quot; href=&quot;https://cdnjs.cloudflare.com/ajax/libs/Leaflet.awesome-markers/2.0.2/leaflet.awesome-markers.css&quot;/&gt;\n",
       "    &lt;link rel=&quot;stylesheet&quot; href=&quot;https://cdn.jsdelivr.net/gh/python-visualization/folium/folium/templates/leaflet.awesome.rotate.min.css&quot;/&gt;\n",
       "    \n",
       "            &lt;meta name=&quot;viewport&quot; content=&quot;width=device-width,\n",
       "                initial-scale=1.0, maximum-scale=1.0, user-scalable=no&quot; /&gt;\n",
       "            &lt;style&gt;\n",
       "                #map_e1f4c0210c73820aa44d62c76e1a34bf {\n",
       "                    position: relative;\n",
       "                    width: 100.0%;\n",
       "                    height: 100.0%;\n",
       "                    left: 0.0%;\n",
       "                    top: 0.0%;\n",
       "                }\n",
       "                .leaflet-container { font-size: 1rem; }\n",
       "            &lt;/style&gt;\n",
       "        \n",
       "    &lt;script src=&quot;https://cdn.jsdelivr.net/gh/python-visualization/folium@main/folium/templates/leaflet_heat.min.js&quot;&gt;&lt;/script&gt;\n",
       "&lt;/head&gt;\n",
       "&lt;body&gt;\n",
       "    \n",
       "    \n",
       "            &lt;div class=&quot;folium-map&quot; id=&quot;map_e1f4c0210c73820aa44d62c76e1a34bf&quot; &gt;&lt;/div&gt;\n",
       "        \n",
       "&lt;/body&gt;\n",
       "&lt;script&gt;\n",
       "    \n",
       "    \n",
       "            var map_e1f4c0210c73820aa44d62c76e1a34bf = L.map(\n",
       "                &quot;map_e1f4c0210c73820aa44d62c76e1a34bf&quot;,\n",
       "                {\n",
       "                    center: [34.94804426958253, 38.78386781532498],\n",
       "                    crs: L.CRS.EPSG3857,\n",
       "                    zoom: 7,\n",
       "                    zoomControl: true,\n",
       "                    preferCanvas: false,\n",
       "                }\n",
       "            );\n",
       "\n",
       "            \n",
       "\n",
       "        \n",
       "    \n",
       "            var tile_layer_39bd30e7f9b7d98b3cabbf343cc9ff3d = L.tileLayer(\n",
       "                &quot;https://cartodb-basemaps-{s}.global.ssl.fastly.net/dark_all/{z}/{x}/{y}.png&quot;,\n",
       "                {&quot;attribution&quot;: &quot;\\u0026copy; \\u003ca target=\\&quot;_blank\\&quot; href=\\&quot;http://www.openstreetmap.org/copyright\\&quot;\\u003eOpenStreetMap\\u003c/a\\u003e contributors \\u0026copy; \\u003ca target=\\&quot;_blank\\&quot; href=\\&quot;http://cartodb.com/attributions\\&quot;\\u003eCartoDB\\u003c/a\\u003e, CartoDB \\u003ca target=\\&quot;_blank\\&quot; href =\\&quot;http://cartodb.com/attributions\\&quot;\\u003eattributions\\u003c/a\\u003e&quot;, &quot;detectRetina&quot;: false, &quot;maxNativeZoom&quot;: 18, &quot;maxZoom&quot;: 18, &quot;minZoom&quot;: 0, &quot;noWrap&quot;: false, &quot;opacity&quot;: 1, &quot;subdomains&quot;: &quot;abc&quot;, &quot;tms&quot;: false}\n",
       "            ).addTo(map_e1f4c0210c73820aa44d62c76e1a34bf);\n",
       "        \n",
       "    \n",
       "            var tile_layer_30b8e159dbe1e5e2828b1d94b59c3f34 = L.tileLayer(\n",
       "                &quot;https://earthengine.googleapis.com/v1alpha/projects/earthengine-legacy/maps/966efd750804ef952ced49012086bc08-3a3e4b7de682295c2686e4434e07141d/tiles/{z}/{x}/{y}&quot;,\n",
       "                {&quot;attribution&quot;: &quot;Map Data \\u00a9 Google Earth Engine&quot;, &quot;detectRetina&quot;: false, &quot;maxNativeZoom&quot;: 18, &quot;maxZoom&quot;: 18, &quot;minZoom&quot;: 0, &quot;noWrap&quot;: false, &quot;opacity&quot;: 1, &quot;subdomains&quot;: &quot;abc&quot;, &quot;tms&quot;: false}\n",
       "            ).addTo(map_e1f4c0210c73820aa44d62c76e1a34bf);\n",
       "        \n",
       "    \n",
       "            var heat_map_74ffce64006749ddb33335cbcf207104 = L.heatLayer(\n",
       "                [[34.45, 40.918611], [35.952829, 39.007879], [36.201241, 37.161173], [36.17286, 36.66502], [36.211756, 36.520776], [36.117443, 36.802054], [36.738333, 39.938611], [36.502368, 40.747716], [34.22956, 37.24066], [36.201241, 37.161173], [33.54539, 36.38615], [36.201241, 37.161173], [32.67567, 36.05642], [36.201241, 37.161173], [36.201241, 37.161173], [36.201241, 37.161173], [32.61889, 36.10213], [36.201241, 37.161173], [33.572264, 36.401811], [34.876157, 36.687027], [34.876157, 36.687027], [36.29353, 37.04466], [36.201241, 37.161173], [32.773706, 35.885239], [33.572264, 36.401811], [35.93062, 36.63393], [36.201241, 37.161173], [36.1168, 36.51522], [33.726307, 36.095947], [33.087355, 35.918132], [36.201241, 37.161173], [33.513364, 36.291575], [33.513364, 36.291575], [33.527253, 36.383471], [33.05593, 36.00458], [33.513364, 36.291575], [35.375278, 36.687222], [35.468163, 36.533797], [32.82944, 36.15933], [36.201241, 37.161173], [33.49146, 36.469752], [32.82944, 36.15933], [33.480277, 36.408333], [36.375556, 36.994167], [36.29353, 37.04466], [32.99115, 36.060232], [33.459018, 36.232879], [36.273055, 37.130555], [35.614444, 36.656389], [34.726818, 36.723391], [33.572264, 36.401811], [32.7539, 36.13], [33.527253, 36.383471], [36.201241, 37.161173], [33.572264, 36.401811], [35.44208, 36.65095], [32.99115, 36.060232], [33.572264, 36.401811], [32.61889, 36.10213], [36.201241, 37.161173], [33.572264, 36.401811], [33.536111, 36.366667], [33.515076, 36.371739], [33.572264, 36.401811], [33.515076, 36.371739], [35.68599, 36.54239], [36.201241, 37.161173], [33.572264, 36.401811], [33.116627, 36.107266], [32.85, 36.21667], [33.572264, 36.401811], [36.32792, 37.12265], [33.572264, 36.401811], [35.991684, 36.394156], [36.138333, 36.453611], [32.736666, 36.328611], [32.61889, 36.10213], [33.726307, 36.095947], [35.812335, 36.610978], [32.61889, 36.10213], [33.572264, 36.401811], [36.201241, 37.161173], [36.0, 37.2], [36.201241, 37.161173], [36.201241, 37.161173], [36.201241, 37.161173], [33.28098, 35.83043], [35.93062, 36.63393], [34.726818, 36.723391], [33.513364, 36.291575], [33.527253, 36.383471], [36.138333, 36.453611], [35.792086, 36.564957], [36.161389, 37.061944], [32.737778, 36.06875], [36.082404, 36.498023], [35.44208, 36.65095], [36.13895, 36.82499], [35.457464, 36.748178], [33.527253, 36.383471], [33.572264, 36.401811], [33.572264, 36.401811], [33.536111, 36.366667], [33.515076, 36.371739], [33.572264, 36.401811], [32.85, 36.21667], [35.712467, 36.281061], [35.948837, 36.562211], [35.93062, 36.63393], [35.648379, 36.676019], [36.29335, 36.723301], [35.648379, 36.676019], [35.60616, 36.85293], [35.615285, 36.86923], [35.560986, 36.745014], [35.589116, 36.855239], [35.510021, 36.712605], [35.63341, 36.85272], [35.650178, 36.85538], [35.578432, 36.851175], [35.53858, 36.79193], [35.541635, 36.728691], [35.568835, 36.782736], [35.583266, 36.7894], [35.539685, 36.840867], [35.64963, 36.88593], [35.57247, 36.89439], [35.521677, 36.800246], [35.58144, 36.92552], [35.547222, 36.8], [35.5681, 36.80282], [35.61324, 36.89585], [35.5029, 36.78612], [35.554529, 36.89134], [35.663137, 36.936109], [35.681766, 36.945751], [35.644352, 36.912572], [35.678319, 36.921709], [35.520364, 36.846209], [35.54473, 36.86653], [35.53107, 36.77563], [35.611747, 36.822472], [35.90403, 36.72501], [35.812335, 36.610978], [35.93062, 36.63393], [36.05024, 36.45182], [36.890952, 38.353471], [36.890952, 38.353471], [36.560937, 38.413232], [34.726818, 36.723391], [35.991684, 36.394156], [36.624328, 37.070065], [33.572264, 36.401811], [33.572264, 36.401811], [36.201241, 37.161173], [36.906111, 41.350278], [36.369722, 37.514925], [34.973889, 36.503056], [34.951111, 36.582222], [36.364374, 38.842436], [35.754722, 38.566667], [35.751322, 38.523638], [36.369722, 37.514925], [35.952829, 39.007879], [35.952829, 39.007879], [35.283094, 40.170863], [35.23349, 40.3166], [35.02089, 40.453455], [35.952829, 39.007879], [36.43274, 37.56857], [35.283094, 40.170863], [35.02089, 40.453455], [35.30088, 40.28916], [35.02089, 40.453455], [34.5624, 38.28402], [35.335876, 40.140844], [35.0431, 37.46442], [35.02089, 40.453455], [33.513364, 36.291575], [35.106845, 37.209307], [33.513364, 36.291575], [34.45, 40.918611], [34.57888, 40.93441], [32.8, 35.85], [32.76667, 36.85], [37.052152, 41.231422], [35.810109, 39.620643], [34.45, 40.918611], [35.952829, 39.007879], [35.952829, 39.007879], [35.952829, 39.007879], [35.952829, 39.007879], [35.952829, 39.007879], [35.952829, 39.007879], [35.952829, 39.007879], [35.952829, 39.007879], [35.952829, 39.007879], [35.952829, 39.007879], [35.952829, 39.007879], [35.952829, 39.007879], [35.952829, 39.007879], [35.952829, 39.007879], [35.952829, 39.007879], [35.952829, 39.007879], [35.952829, 39.007879], [35.952829, 39.007879], [35.02089, 40.453455], [35.952829, 39.007879], [35.952829, 39.007879], [35.952829, 39.007879], [35.952829, 39.007879], [35.952829, 39.007879], [35.952829, 39.007879], [35.952829, 39.007879], [35.952829, 39.007879], [35.952829, 39.007879], [35.952829, 39.007879], [35.952829, 39.007879], [35.952829, 39.007879], [35.952829, 39.007879], [35.952829, 39.007879], [35.952829, 39.007879], [35.952829, 39.007879], [35.952829, 39.007879], [35.952829, 39.007879], [35.952829, 39.007879], [34.53366, 40.95819], [34.56, 40.92], [34.688746, 40.831558], [36.528153, 37.954954], [34.458611, 40.950556], [36.165958, 36.627197], [36.502368, 40.747716], [36.369722, 37.514925], [36.34734, 37.530185], [34.1527, 36.74152], [36.057565, 40.734784], [36.890952, 38.353471], [36.890952, 38.353471], [36.48259, 37.19709], [36.315642, 36.662234], [36.585896, 37.04565], [36.434127, 37.441975], [36.52484, 37.07789], [33.5, 36.44], [35.81426, 36.32062], [33.513364, 36.291575], [35.30088, 40.28916], [35.02089, 40.453455], [36.513306, 36.863656], [36.60042, 37.77143], [36.369722, 37.514925], [36.82399, 40.03843], [36.585896, 37.04565], [36.39496, 36.6889], [36.528153, 37.954954], [35.086496, 40.452324]],\n",
       "                {&quot;blur&quot;: 15, &quot;maxZoom&quot;: 18, &quot;minOpacity&quot;: 0.5, &quot;radius&quot;: 25}\n",
       "            ).addTo(map_e1f4c0210c73820aa44d62c76e1a34bf);\n",
       "        \n",
       "    \n",
       "            var layer_control_33af9879a9af7625624104ee5b1fe342 = {\n",
       "                base_layers : {\n",
       "                    &quot;cartodbdark_matter&quot; : tile_layer_39bd30e7f9b7d98b3cabbf343cc9ff3d,\n",
       "                },\n",
       "                overlays :  {\n",
       "                    &quot;Land Surface Temperature&quot; : tile_layer_30b8e159dbe1e5e2828b1d94b59c3f34,\n",
       "                    &quot;Conflict Zones&quot; : heat_map_74ffce64006749ddb33335cbcf207104,\n",
       "                },\n",
       "            };\n",
       "            L.control.layers(\n",
       "                layer_control_33af9879a9af7625624104ee5b1fe342.base_layers,\n",
       "                layer_control_33af9879a9af7625624104ee5b1fe342.overlays,\n",
       "                {&quot;autoZIndex&quot;: true, &quot;collapsed&quot;: false, &quot;position&quot;: &quot;topright&quot;}\n",
       "            ).addTo(map_e1f4c0210c73820aa44d62c76e1a34bf);\n",
       "        \n",
       "&lt;/script&gt;\n",
       "&lt;/html&gt;\" style=\"position:absolute;width:100%;height:100%;left:0;top:0;border:none !important;\" allowfullscreen webkitallowfullscreen mozallowfullscreen></iframe></div></div>"
      ],
      "text/plain": [
       "<folium.folium.Map at 0x1503936d0>"
      ]
     },
     "execution_count": 79,
     "metadata": {},
     "output_type": "execute_result"
    }
   ],
   "source": [
    "my_map = folium.Map(location=[lat, lon], zoom_start=7, tiles=\"Cartodb dark_matter\")\n",
    "# Add layers to the map using a loop.\n",
    "for tile, vis_param, name in zip(ee_tiles, ee_vis_params, ee_tiles_names):\n",
    "    my_map.add_ee_layer(tile, vis_param, name)\n",
    "\n",
    "heat_data = [[point.xy[1][0], point.xy[0][0]] for point in ucdp.points]\n",
    "plugins.HeatMap(heat_data, name='Conflict Zones').add_to(my_map)\n",
    "folium.LayerControl(collapsed = False).add_to(my_map)\n",
    "my_map"
   ]
  },
  {
   "cell_type": "code",
   "execution_count": null,
   "id": "99ed358e-64ed-4173-afc4-6a911202aeeb",
   "metadata": {},
   "outputs": [],
   "source": []
  },
  {
   "cell_type": "code",
   "execution_count": null,
   "id": "641fdbb9-139f-4c1e-8fdd-0f81d260234b",
   "metadata": {},
   "outputs": [],
   "source": []
  },
  {
   "cell_type": "code",
   "execution_count": null,
   "id": "67312760-b970-4d10-8c5a-3ad5810b4520",
   "metadata": {
    "tags": []
   },
   "outputs": [],
   "source": []
  }
 ],
 "metadata": {
  "kernelspec": {
   "display_name": "Python 3 (ipykernel)",
   "language": "python",
   "name": "python3"
  },
  "language_info": {
   "codemirror_mode": {
    "name": "ipython",
    "version": 3
   },
   "file_extension": ".py",
   "mimetype": "text/x-python",
   "name": "python",
   "nbconvert_exporter": "python",
   "pygments_lexer": "ipython3",
   "version": "3.11.3"
  }
 },
 "nbformat": 4,
 "nbformat_minor": 5
}
